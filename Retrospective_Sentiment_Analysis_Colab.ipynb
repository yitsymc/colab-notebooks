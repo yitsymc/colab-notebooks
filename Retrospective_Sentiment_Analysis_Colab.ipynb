{
  "cells": [
    {
      "cell_type": "markdown",
      "source": [
        "**1. Install dependencies | Instalar dependencias**"
      ],
      "metadata": {
        "id": "4UbVMSWaoafm"
      }
    },
    {
      "cell_type": "code",
      "source": [
        "!pip install -q transformers torch matplotlib pandas langdetect"
      ],
      "metadata": {
        "id": "5YhZrgW2Rs13"
      },
      "execution_count": null,
      "outputs": []
    },
    {
      "cell_type": "markdown",
      "source": [
        "**2. Define the Messages based on the specific language used in the file**\n",
        "\n",
        "The model `nlptown/bert-base-multilingual-uncased-sentiment` has been trained to understand and process the following languages, which enables the model to perform sentiment analysis across multiple languages:\n",
        "*   English\n",
        "*   Dutch\n",
        "*   German\n",
        "*   French\n",
        "*   Italian\n",
        "*   Spanish\n",
        "\n",
        "Update the variable `MESSAGES` with the desired text or add new languages."
      ],
      "metadata": {
        "id": "aP_ZAM_k8D7d"
      }
    },
    {
      "cell_type": "code",
      "source": [
        "MESSAGES = {\n",
        "    'en': {\n",
        "        'loaded': '✅ Notes loaded.',\n",
        "        'loading_model': '🧠 Loading multilingual sentiment model...',\n",
        "        'analyzing': '🔍 Analyzing sentiment...',\n",
        "        'preview': '📋 Sample results:',\n",
        "        'df_note': 'Note',\n",
        "        'df_star': 'Star',\n",
        "        'df_score': 'Score',\n",
        "        'df_sentiment': 'Sentiment',\n",
        "        'positive_score': 'Positive',\n",
        "        'neutral_score': 'Neutral',\n",
        "        'negative_score': 'Negative',\n",
        "        'exported': '📁 File exported: retro.csv',\n",
        "        'chart_title': 'Sentiment Distribution',\n",
        "        'x_label': 'Sentiment',\n",
        "        'y_label': 'Number of notes',\n",
        "    },\n",
        "    'es': {\n",
        "        'loaded': '✅ Notas cargadas.',\n",
        "        'loading_model': '🧠 Cargando modelo multilingüe de sentimiento...',\n",
        "        'analyzing': '🔍 Analizando sentimientos...',\n",
        "        'preview': '📋 Muestra de resultados:',\n",
        "        'df_note': 'Nota',\n",
        "        'df_star': 'Estrella',\n",
        "        'df_score': 'Puntos',\n",
        "        'df_sentiment': 'Sentimiento',\n",
        "        'positive_score': 'Positivo',\n",
        "        'neutral_score': 'Neutral',\n",
        "        'negative_score': 'Negativo',\n",
        "        'exported': '📁 Archivo exportado: retro.csv',\n",
        "        'chart_title': 'Distribución de Sentimientos',\n",
        "        'x_label': 'Sentimiento',\n",
        "        'y_label': 'Cantidad de notas',\n",
        "    }\n",
        "}\n"
      ],
      "metadata": {
        "id": "9ruEEBPd-anv"
      },
      "execution_count": null,
      "outputs": []
    },
    {
      "cell_type": "markdown",
      "source": [
        "**2. Upload your file in `.txt` format.**\n",
        "\n",
        "The file must contain a white line between notes. This block reads the file, and prepares the content for analysis."
      ],
      "metadata": {
        "id": "NCE_inWnoulz"
      }
    },
    {
      "cell_type": "code",
      "source": [
        "from google.colab import files\n",
        "from langdetect import detect\n",
        "import matplotlib.pyplot as plt\n",
        "import pandas as pd\n",
        "from transformers import pipeline\n",
        "\n",
        "uploaded = files.upload()\n",
        "\n",
        "filename = list(uploaded.keys())[0]\n",
        "\n",
        "with open(filename, encoding='utf-8') as f:\n",
        "    lines = [line.strip() for line in f if line.strip()]\n",
        "\n",
        "# Detect language\n",
        "sample_text = ' '.join(lines[:5])\n",
        "language = detect(sample_text)\n",
        "msgs = MESSAGES.get(language, MESSAGES['en'])\n",
        "\n",
        "\n",
        "print(f\"{msgs['loaded']}: {len(lines)}\")\n"
      ],
      "metadata": {
        "colab": {
          "base_uri": "https://localhost:8080/",
          "height": 92
        },
        "id": "VPDqbmY9Lz_S",
        "outputId": "c41da742-47e6-4110-d2fa-efd84edae6c8"
      },
      "execution_count": null,
      "outputs": [
        {
          "output_type": "display_data",
          "data": {
            "text/plain": [
              "<IPython.core.display.HTML object>"
            ],
            "text/html": [
              "\n",
              "     <input type=\"file\" id=\"files-ee070298-c87d-4c8a-9e08-7aaadbae3f59\" name=\"files[]\" multiple disabled\n",
              "        style=\"border:none\" />\n",
              "     <output id=\"result-ee070298-c87d-4c8a-9e08-7aaadbae3f59\">\n",
              "      Upload widget is only available when the cell has been executed in the\n",
              "      current browser session. Please rerun this cell to enable.\n",
              "      </output>\n",
              "      <script>// Copyright 2017 Google LLC\n",
              "//\n",
              "// Licensed under the Apache License, Version 2.0 (the \"License\");\n",
              "// you may not use this file except in compliance with the License.\n",
              "// You may obtain a copy of the License at\n",
              "//\n",
              "//      http://www.apache.org/licenses/LICENSE-2.0\n",
              "//\n",
              "// Unless required by applicable law or agreed to in writing, software\n",
              "// distributed under the License is distributed on an \"AS IS\" BASIS,\n",
              "// WITHOUT WARRANTIES OR CONDITIONS OF ANY KIND, either express or implied.\n",
              "// See the License for the specific language governing permissions and\n",
              "// limitations under the License.\n",
              "\n",
              "/**\n",
              " * @fileoverview Helpers for google.colab Python module.\n",
              " */\n",
              "(function(scope) {\n",
              "function span(text, styleAttributes = {}) {\n",
              "  const element = document.createElement('span');\n",
              "  element.textContent = text;\n",
              "  for (const key of Object.keys(styleAttributes)) {\n",
              "    element.style[key] = styleAttributes[key];\n",
              "  }\n",
              "  return element;\n",
              "}\n",
              "\n",
              "// Max number of bytes which will be uploaded at a time.\n",
              "const MAX_PAYLOAD_SIZE = 100 * 1024;\n",
              "\n",
              "function _uploadFiles(inputId, outputId) {\n",
              "  const steps = uploadFilesStep(inputId, outputId);\n",
              "  const outputElement = document.getElementById(outputId);\n",
              "  // Cache steps on the outputElement to make it available for the next call\n",
              "  // to uploadFilesContinue from Python.\n",
              "  outputElement.steps = steps;\n",
              "\n",
              "  return _uploadFilesContinue(outputId);\n",
              "}\n",
              "\n",
              "// This is roughly an async generator (not supported in the browser yet),\n",
              "// where there are multiple asynchronous steps and the Python side is going\n",
              "// to poll for completion of each step.\n",
              "// This uses a Promise to block the python side on completion of each step,\n",
              "// then passes the result of the previous step as the input to the next step.\n",
              "function _uploadFilesContinue(outputId) {\n",
              "  const outputElement = document.getElementById(outputId);\n",
              "  const steps = outputElement.steps;\n",
              "\n",
              "  const next = steps.next(outputElement.lastPromiseValue);\n",
              "  return Promise.resolve(next.value.promise).then((value) => {\n",
              "    // Cache the last promise value to make it available to the next\n",
              "    // step of the generator.\n",
              "    outputElement.lastPromiseValue = value;\n",
              "    return next.value.response;\n",
              "  });\n",
              "}\n",
              "\n",
              "/**\n",
              " * Generator function which is called between each async step of the upload\n",
              " * process.\n",
              " * @param {string} inputId Element ID of the input file picker element.\n",
              " * @param {string} outputId Element ID of the output display.\n",
              " * @return {!Iterable<!Object>} Iterable of next steps.\n",
              " */\n",
              "function* uploadFilesStep(inputId, outputId) {\n",
              "  const inputElement = document.getElementById(inputId);\n",
              "  inputElement.disabled = false;\n",
              "\n",
              "  const outputElement = document.getElementById(outputId);\n",
              "  outputElement.innerHTML = '';\n",
              "\n",
              "  const pickedPromise = new Promise((resolve) => {\n",
              "    inputElement.addEventListener('change', (e) => {\n",
              "      resolve(e.target.files);\n",
              "    });\n",
              "  });\n",
              "\n",
              "  const cancel = document.createElement('button');\n",
              "  inputElement.parentElement.appendChild(cancel);\n",
              "  cancel.textContent = 'Cancel upload';\n",
              "  const cancelPromise = new Promise((resolve) => {\n",
              "    cancel.onclick = () => {\n",
              "      resolve(null);\n",
              "    };\n",
              "  });\n",
              "\n",
              "  // Wait for the user to pick the files.\n",
              "  const files = yield {\n",
              "    promise: Promise.race([pickedPromise, cancelPromise]),\n",
              "    response: {\n",
              "      action: 'starting',\n",
              "    }\n",
              "  };\n",
              "\n",
              "  cancel.remove();\n",
              "\n",
              "  // Disable the input element since further picks are not allowed.\n",
              "  inputElement.disabled = true;\n",
              "\n",
              "  if (!files) {\n",
              "    return {\n",
              "      response: {\n",
              "        action: 'complete',\n",
              "      }\n",
              "    };\n",
              "  }\n",
              "\n",
              "  for (const file of files) {\n",
              "    const li = document.createElement('li');\n",
              "    li.append(span(file.name, {fontWeight: 'bold'}));\n",
              "    li.append(span(\n",
              "        `(${file.type || 'n/a'}) - ${file.size} bytes, ` +\n",
              "        `last modified: ${\n",
              "            file.lastModifiedDate ? file.lastModifiedDate.toLocaleDateString() :\n",
              "                                    'n/a'} - `));\n",
              "    const percent = span('0% done');\n",
              "    li.appendChild(percent);\n",
              "\n",
              "    outputElement.appendChild(li);\n",
              "\n",
              "    const fileDataPromise = new Promise((resolve) => {\n",
              "      const reader = new FileReader();\n",
              "      reader.onload = (e) => {\n",
              "        resolve(e.target.result);\n",
              "      };\n",
              "      reader.readAsArrayBuffer(file);\n",
              "    });\n",
              "    // Wait for the data to be ready.\n",
              "    let fileData = yield {\n",
              "      promise: fileDataPromise,\n",
              "      response: {\n",
              "        action: 'continue',\n",
              "      }\n",
              "    };\n",
              "\n",
              "    // Use a chunked sending to avoid message size limits. See b/62115660.\n",
              "    let position = 0;\n",
              "    do {\n",
              "      const length = Math.min(fileData.byteLength - position, MAX_PAYLOAD_SIZE);\n",
              "      const chunk = new Uint8Array(fileData, position, length);\n",
              "      position += length;\n",
              "\n",
              "      const base64 = btoa(String.fromCharCode.apply(null, chunk));\n",
              "      yield {\n",
              "        response: {\n",
              "          action: 'append',\n",
              "          file: file.name,\n",
              "          data: base64,\n",
              "        },\n",
              "      };\n",
              "\n",
              "      let percentDone = fileData.byteLength === 0 ?\n",
              "          100 :\n",
              "          Math.round((position / fileData.byteLength) * 100);\n",
              "      percent.textContent = `${percentDone}% done`;\n",
              "\n",
              "    } while (position < fileData.byteLength);\n",
              "  }\n",
              "\n",
              "  // All done.\n",
              "  yield {\n",
              "    response: {\n",
              "      action: 'complete',\n",
              "    }\n",
              "  };\n",
              "}\n",
              "\n",
              "scope.google = scope.google || {};\n",
              "scope.google.colab = scope.google.colab || {};\n",
              "scope.google.colab._files = {\n",
              "  _uploadFiles,\n",
              "  _uploadFilesContinue,\n",
              "};\n",
              "})(self);\n",
              "</script> "
            ]
          },
          "metadata": {}
        },
        {
          "output_type": "stream",
          "name": "stdout",
          "text": [
            "Saving retro2.txt to retro2.txt\n",
            "✅ Notes loaded.: 20\n"
          ]
        }
      ]
    },
    {
      "cell_type": "markdown",
      "source": [
        "**3. Load the sentiment analysis model, and analyze the imported lines**"
      ],
      "metadata": {
        "id": "Me-k-gU3otDX"
      }
    },
    {
      "cell_type": "code",
      "source": [
        "print(msgs['loading_model'])\n",
        "classifier = pipeline('sentiment-analysis', model='nlptown/bert-base-multilingual-uncased-sentiment')\n",
        "\n",
        "print(msgs['analyzing'])\n",
        "results = classifier(lines)\n",
        "\n",
        "print(results)"
      ],
      "metadata": {
        "colab": {
          "base_uri": "https://localhost:8080/"
        },
        "id": "ftq_Y3Iloo4M",
        "outputId": "732e9230-b88a-472a-9ba6-a5838994f5a6"
      },
      "execution_count": null,
      "outputs": [
        {
          "output_type": "stream",
          "name": "stdout",
          "text": [
            "🧠 Loading multilingual sentiment model...\n"
          ]
        },
        {
          "output_type": "stream",
          "name": "stderr",
          "text": [
            "Device set to use cpu\n"
          ]
        },
        {
          "output_type": "stream",
          "name": "stdout",
          "text": [
            "🔍 Analyzing sentiment...\n",
            "[{'label': '5 stars', 'score': 0.6202268600463867}, {'label': '1 star', 'score': 0.5669248104095459}, {'label': '4 stars', 'score': 0.4956530034542084}, {'label': '2 stars', 'score': 0.5217221975326538}, {'label': '5 stars', 'score': 0.49541887640953064}, {'label': '2 stars', 'score': 0.41643473505973816}, {'label': '5 stars', 'score': 0.4670548737049103}, {'label': '2 stars', 'score': 0.3708787262439728}, {'label': '4 stars', 'score': 0.4436158537864685}, {'label': '2 stars', 'score': 0.48309943079948425}, {'label': '4 stars', 'score': 0.4162013530731201}, {'label': '2 stars', 'score': 0.3991352617740631}, {'label': '5 stars', 'score': 0.4354078769683838}, {'label': '3 stars', 'score': 0.35140496492385864}, {'label': '3 stars', 'score': 0.433772474527359}, {'label': '2 stars', 'score': 0.44116804003715515}, {'label': '4 stars', 'score': 0.48660555481910706}, {'label': '1 star', 'score': 0.5116708874702454}, {'label': '4 stars', 'score': 0.3926796019077301}, {'label': '1 star', 'score': 0.6027973294258118}]\n"
          ]
        }
      ]
    },
    {
      "cell_type": "markdown",
      "source": [
        "**4. Process the results**"
      ],
      "metadata": {
        "id": "-VVlF-tZpqfM"
      }
    },
    {
      "cell_type": "code",
      "source": [
        "df = pd.DataFrame({\n",
        "    msgs['df_note']: lines,\n",
        "    msgs['df_star']: [r['label'] for r in results],\n",
        "    msgs['df_score']: [r['score'] for r in results]\n",
        "})\n",
        "\n",
        "# Convert tags to ratings (1 to 5 stars)\n",
        "df[msgs['df_star']] = df[msgs['df_star']].str.extract(r'(\\d)').astype(int)"
      ],
      "metadata": {
        "id": "xjXLnr7ApLXg"
      },
      "execution_count": null,
      "outputs": []
    },
    {
      "cell_type": "markdown",
      "source": [
        "**5. Categorize feelings based on punctuation**"
      ],
      "metadata": {
        "id": "IhlzQgv2p1eE"
      }
    },
    {
      "cell_type": "code",
      "source": [
        "def categorize(n):\n",
        "    if n <= 2:\n",
        "        return msgs['negative_score']\n",
        "    elif n == 3:\n",
        "        return msgs['neutral_score']\n",
        "    else:\n",
        "        return msgs['positive_score']\n",
        "\n",
        "df[msgs['df_sentiment']] = df[msgs['df_star']].apply(categorize)\n",
        "\n",
        "print(msgs['preview'])\n",
        "print(df.head())\n"
      ],
      "metadata": {
        "colab": {
          "base_uri": "https://localhost:8080/"
        },
        "id": "EAeEMjBopUzJ",
        "outputId": "12570c5f-c898-4041-dfef-4bde11066b07"
      },
      "execution_count": null,
      "outputs": [
        {
          "output_type": "stream",
          "name": "stdout",
          "text": [
            "📋 Sample results:\n",
            "                                                Note  Star     Score Sentiment\n",
            "0  Great collaboration between frontend and backe...     5  0.620227  Positive\n",
            "1       Poorly defined user stories caused confusion     1  0.566925  Negative\n",
            "2         Daily standups were concise and productive     4  0.495653  Positive\n",
            "3   Too many last-minute changes to the sprint scope     2  0.521722  Negative\n",
            "4    The new QA process helped us catch bugs earlier     5  0.495419  Positive\n"
          ]
        }
      ]
    },
    {
      "cell_type": "markdown",
      "source": [
        "**6. Visualize the results**"
      ],
      "metadata": {
        "id": "dF1BWWEhqKYG"
      }
    },
    {
      "cell_type": "code",
      "source": [
        "plt.figure(figsize=(6, 4))\n",
        "df[msgs['df_sentiment']].value_counts().plot(kind='bar', color=['red', 'gray', 'green'])\n",
        "plt.title(msgs['chart_title'])\n",
        "plt.xlabel(msgs['x_label'])\n",
        "plt.ylabel(msgs['x_label'])\n",
        "plt.xticks(rotation=0)\n",
        "plt.grid(axis='y')\n",
        "plt.tight_layout()\n",
        "plt.show()"
      ],
      "metadata": {
        "colab": {
          "base_uri": "https://localhost:8080/",
          "height": 407
        },
        "id": "u6mMibH4pc4W",
        "outputId": "de41e61d-af91-42ff-b365-934fdd952c77"
      },
      "execution_count": null,
      "outputs": [
        {
          "output_type": "display_data",
          "data": {
            "text/plain": [
              "<Figure size 600x400 with 1 Axes>"
            ],
            "image/png": "[encoded data removed]"
          },
          "metadata": {}
        }
      ]
    },
    {
      "cell_type": "markdown",
      "source": [
        "**Export the results**"
      ],
      "metadata": {
        "id": "RXHiL1Ksqf2E"
      }
    },
    {
      "cell_type": "code",
      "source": [
        "df.to_csv('retro_analysis.csv', index=False)\n",
        "print('📁 Archivo exportado: retro_analysis.csv')"
      ],
      "metadata": {
        "colab": {
          "base_uri": "https://localhost:8080/"
        },
        "id": "WjnX7v5Rpeu2",
        "outputId": "c770cb49-e40d-4880-899c-58b13b85f6be"
      },
      "execution_count": null,
      "outputs": [
        {
          "output_type": "stream",
          "name": "stdout",
          "text": [
            "📁 Archivo exportado: retro_analysis.csv\n"
          ]
        }
      ]
    }
  ],
  "metadata": {
    "colab": {
      "provenance": []
    },
    "kernelspec": {
      "display_name": "Python 3",
      "name": "python3"
    }
  },
  "nbformat": 4,
  "nbformat_minor": 0
}